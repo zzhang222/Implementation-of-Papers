{
  "nbformat": 4,
  "nbformat_minor": 0,
  "metadata": {
    "colab": {
      "name": "pixel_pytorch.ipynb",
      "provenance": []
    },
    "kernelspec": {
      "name": "python3",
      "display_name": "Python 3"
    },
    "accelerator": "GPU"
  },
  "cells": [
    {
      "cell_type": "code",
      "metadata": {
        "id": "Ix9qzpKo5jwZ",
        "colab_type": "code",
        "colab": {}
      },
      "source": [
        "import torch\n",
        "import torch.nn.functional as F\n",
        "from torch.utils.data import DataLoader, Dataset, TensorDataset\n",
        "from torch.optim import *\n",
        "import torchvision\n",
        "import matplotlib.pyplot as plt\n",
        "import torch.jit as jit\n",
        "from torchvision import datasets, transforms\n",
        "from torch import nn, optim\n",
        "from skimage import io, transform\n",
        "import skimage\n",
        "import sys\n",
        "from google.colab import drive\n",
        "from asnn import *"
      ],
      "execution_count": 0,
      "outputs": []
    },
    {
      "cell_type": "code",
      "metadata": {
        "id": "_dLbvZtH5kqe",
        "colab_type": "code",
        "colab": {}
      },
      "source": [
        "torch.set_default_tensor_type('torch.cuda.FloatTensor')\n",
        "batch_size = 128\n",
        "transform = transforms.Compose([transforms.ToTensor(),\n",
        "                              transforms.Normalize((0.5,), (0.5,)),\n",
        "                              ])\n",
        "trainset = datasets.MNIST('PATH_TO_STORE_TRAINSET', download=True, train=True,\n",
        "                          transform=transform)\n",
        "valset = datasets.MNIST('PATH_TO_STORE_TESTSET', download=True, train=False,\n",
        "                        transform=transform)\n",
        "trainloader = torch.utils.data.DataLoader(trainset, batch_size=batch_size,\n",
        "                                          drop_last = True, shuffle=True)\n",
        "valloader = torch.utils.data.DataLoader(valset, batch_size=batch_size, \n",
        "                                        drop_last = True, shuffle=True)"
      ],
      "execution_count": 0,
      "outputs": []
    },
    {
      "cell_type": "code",
      "metadata": {
        "id": "jEb2JaGn5t2M",
        "colab_type": "code",
        "colab": {}
      },
      "source": [
        "input_size = 1\n",
        "hidden_size = 128\n",
        "niter = 125\n",
        "output_size = 10\n",
        "epsilon = 0.01\n",
        "gamma = 0.01\n",
        "sigma = 1\n",
        "epsilon = 0.01\n",
        "asnn = ASNNLayer(ASNNCell, input_size, hidden_size, sigma, gamma, epsilon)\n",
        "net_asnn = Net1(asnn, hidden_size, output_size)\n",
        "initial_state_asnn = torch.zeros(batch_size,hidden_size).cuda()\n",
        "optimizer_asnn = torch.optim.Adagrad(net_asnn.parameters(), lr=0.1)"
      ],
      "execution_count": 0,
      "outputs": []
    },
    {
      "cell_type": "code",
      "metadata": {
        "id": "6VrKRtiZRFHK",
        "colab_type": "code",
        "colab": {}
      },
      "source": [
        "test_losses = train(trainloader, valloader, optimizer_asnn, net_asnn, \n",
        "       initial_state_asnn, niter)"
      ],
      "execution_count": 0,
      "outputs": []
    }
  ]
}